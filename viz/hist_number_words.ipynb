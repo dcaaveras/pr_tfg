{
 "cells": [
  {
   "cell_type": "code",
   "execution_count": null,
   "id": "8bc310e6",
   "metadata": {},
   "outputs": [],
   "source": [
    "# visualizacion post y pre procesamiento del numeor de palabras por documento en cada uno de los corpus\n",
    "# seleccionando o no nombres propios. "
   ]
  },
  {
   "cell_type": "code",
   "execution_count": 19,
   "id": "d9a676fb-47fb-49fe-ac64-c491fbdf598e",
   "metadata": {
    "tags": []
   },
   "outputs": [],
   "source": [
    "import pandas as pd\n",
    "from sklearn.feature_extraction.text import TfidfVectorizer\n",
    "from scipy.sparse import find\n",
    "\n",
    "import matplotlib.pyplot as plt\n",
    "import numpy as np\n",
    "import pandas as pd"
   ]
  },
  {
   "cell_type": "code",
   "execution_count": 20,
   "id": "fcdf0d41-a28e-4334-bf4b-c01a4f5b6b2e",
   "metadata": {
    "tags": []
   },
   "outputs": [],
   "source": [
    "news_tfidf = pd.read_csv(r\"D:\\TFG\\tfg_git\\data\\tf_idf\\news_processed_tfidf_fulldataset.csv\")\n",
    "mails_tfidf = pd.read_csv(r\"D:\\TFG\\tfg_git\\data\\tf_idf\\mails_processed_tfidf_fulldataset.csv\")"
   ]
  },
  {
   "cell_type": "code",
   "execution_count": 21,
   "id": "c7de3f34-cd70-46c7-bd25-976f814ec45a",
   "metadata": {
    "tags": []
   },
   "outputs": [],
   "source": [
    "\n",
    "feature_names = news_tfidf.columns.tolist()\n",
    "\n",
    "# loop through each row of the matrix and create a list of words for that row\n",
    "word_lists = []\n",
    "for row in range(news_tfidf.shape[0]):\n",
    "    # get the indices of the non-zero elements in the row\n",
    "    _, col_indices, _ = find(news_tfidf.iloc[row])\n",
    "    # create a list of words for the row\n",
    "    words = [feature_names[col] for col in col_indices]\n",
    "    word_lists.append(words)\n",
    "\n",
    "word_lists_news = word_lists"
   ]
  },
  {
   "cell_type": "code",
   "execution_count": 22,
   "id": "3184feaf-956c-4b26-8a04-30f961622c07",
   "metadata": {
    "tags": []
   },
   "outputs": [],
   "source": [
    "\n",
    "feature_names = mails_tfidf.columns.tolist()\n",
    "\n",
    "# loop through each row of the matrix and create a list of words for that row\n",
    "word_lists = []\n",
    "for row in range(mails_tfidf.shape[0]):\n",
    "    # get the indices of the non-zero elements in the row\n",
    "    _, col_indices, _ = find(mails_tfidf.iloc[row])\n",
    "    # create a list of words for the row\n",
    "    words = [feature_names[col] for col in col_indices]\n",
    "    word_lists.append(words)\n",
    "\n",
    "word_lists_mails = word_lists"
   ]
  },
  {
   "cell_type": "code",
   "execution_count": 23,
   "id": "98ac47b0-befc-4ee7-9c11-c4e05959378c",
   "metadata": {
    "tags": []
   },
   "outputs": [
    {
     "name": "stdout",
     "output_type": "stream",
     "text": [
      "26244\n",
      "662\n"
     ]
    }
   ],
   "source": [
    "print(len(word_lists_news))\n",
    "print(len(word_lists_mails))"
   ]
  },
  {
   "cell_type": "code",
   "execution_count": 24,
   "id": "fbd4a7d6-54d0-461b-a3df-9ede1909376b",
   "metadata": {},
   "outputs": [],
   "source": [
    "# processed tf idf without proper nouns"
   ]
  },
  {
   "cell_type": "code",
   "execution_count": 25,
   "id": "9201fe4e-f90c-4df7-b728-4254b34f9525",
   "metadata": {
    "tags": []
   },
   "outputs": [],
   "source": [
    "news_tfidf2 = pd.read_csv(r\"D:\\TFG\\tfg_git\\data\\tf_idf\\news_processed_tfidfv2_fulldataset.csv\")\n",
    "mails_tfidf2 = pd.read_csv(r\"D:\\TFG\\tfg_git\\data\\tf_idf\\mails_processed_tfidfv2_fulldataset.csv\")"
   ]
  },
  {
   "cell_type": "code",
   "execution_count": 26,
   "id": "9463af0b-7066-45f6-8ea6-24176c813a66",
   "metadata": {
    "tags": []
   },
   "outputs": [],
   "source": [
    "\n",
    "feature_names = news_tfidf2.columns.tolist()\n",
    "\n",
    "# loop through each row of the matrix and create a list of words for that row\n",
    "word_lists2 = []\n",
    "for row in range(news_tfidf2.shape[0]):\n",
    "    # get the indices of the non-zero elements in the row\n",
    "    _, col_indices, _ = find(news_tfidf2.iloc[row])\n",
    "    # create a list of words for the row\n",
    "    words = [feature_names[col] for col in col_indices]\n",
    "    word_lists2.append(words)\n",
    "\n",
    "word_lists_news2 = word_lists2\n",
    "\n",
    "\n",
    "\n",
    "feature_names = mails_tfidf2.columns.tolist()\n",
    "\n",
    "# loop through each row of the matrix and create a list of words for that row\n",
    "word_lists2 = []\n",
    "for row in range(mails_tfidf2.shape[0]):\n",
    "    # get the indices of the non-zero elements in the row\n",
    "    _, col_indices, _ = find(mails_tfidf2.iloc[row])\n",
    "    # create a list of words for the row\n",
    "    words = [feature_names[col] for col in col_indices]\n",
    "    word_lists2.append(words)\n",
    "\n",
    "word_lists_mails2 = word_lists2\n"
   ]
  },
  {
   "cell_type": "code",
   "execution_count": 27,
   "id": "5895690a-55ae-4696-974e-c65d1f0ce87b",
   "metadata": {
    "tags": []
   },
   "outputs": [
    {
     "data": {
      "text/plain": [
       "26252"
      ]
     },
     "execution_count": 27,
     "metadata": {},
     "output_type": "execute_result"
    }
   ],
   "source": [
    "len(word_lists_news2)"
   ]
  },
  {
   "cell_type": "code",
   "execution_count": 39,
   "id": "33a1266e-37ff-4c9f-a945-99df18fd3fc7",
   "metadata": {
    "tags": []
   },
   "outputs": [],
   "source": [
    "# load preprocessing data\n",
    "news_preprocessed = pd.read_csv(r\"D:\\TFG\\tfg_git\\data\\news\\news3_v2.csv\")\n",
    "mails_preprocessed = pd.read_csv(r\"D:\\TFG\\tfg_git\\data\\mails\\corpus_v2.0.csv\")\n"
   ]
  },
  {
   "cell_type": "code",
   "execution_count": 40,
   "id": "53e6d18b-f614-4859-96aa-47aec93a1e7d",
   "metadata": {
    "tags": []
   },
   "outputs": [],
   "source": [
    "len_news_orig = []\n",
    "len_news_processed = []\n",
    "len_news_processed2 = []\n",
    "for i in range(len(word_lists_news)): \n",
    "    len_news_processed.append(len(word_lists_news[i]))\n",
    "    \n",
    "\n",
    "    \n",
    "for i in range(len(word_lists_news2)): \n",
    "    len_news_processed2.append(len(word_lists_news2[i]))\n",
    "    \n",
    "for i in range(len(news_preprocessed)): \n",
    "    len_news_orig.append(len(news_preprocessed[\"clean_text\"][i].split()))\n"
   ]
  },
  {
   "cell_type": "code",
   "execution_count": 41,
   "id": "b7d7277f-f5c6-4b51-9d44-6a97846e3f10",
   "metadata": {
    "tags": []
   },
   "outputs": [],
   "source": [
    "len_mails_orig = []\n",
    "len_mails_processed = []\n",
    "len_mails_processed2 = []\n",
    "    \n",
    "for i in range(len(word_lists_mails)): \n",
    "    len_mails_processed.append(len(word_lists_mails[i]))\n",
    "    \n",
    "\n",
    "    \n",
    "for i in range(len(word_lists_mails2)): \n",
    "    len_mails_processed2.append(len(word_lists_mails2[i]))\n",
    "    \n",
    "for i in range(len(mails_preprocessed)): \n",
    "    len_mails_orig.append(len(mails_preprocessed[\"clean_text\"][i].split()))\n"
   ]
  },
  {
   "cell_type": "code",
   "execution_count": 42,
   "id": "59ed6953-b20d-40ce-8b38-5528f9897549",
   "metadata": {
    "tags": []
   },
   "outputs": [
    {
     "name": "stdout",
     "output_type": "stream",
     "text": [
      "26501\n",
      "26244\n",
      "26252\n",
      "668\n",
      "662\n",
      "662\n"
     ]
    }
   ],
   "source": [
    "print(len(len_news_orig))\n",
    "print(len(len_news_processed))\n",
    "print(len(len_news_processed2))\n",
    "\n",
    "\n",
    "### \n",
    "print(len(len_mails_orig))\n",
    "print(len(len_mails_processed))\n",
    "print(len(len_mails_processed2))"
   ]
  },
  {
   "cell_type": "code",
   "execution_count": 43,
   "id": "f72845e9-4246-42a9-9201-2da3d9905fec",
   "metadata": {
    "tags": []
   },
   "outputs": [],
   "source": [
    "# len_news_orig, len_news_processed, len_news_processed2\n",
    "# len_mails_orig, len_mails_processed, len_mails_processed2"
   ]
  },
  {
   "cell_type": "code",
   "execution_count": 49,
   "id": "ef35251a-0ef6-45e4-98fd-0aaf20cd59c4",
   "metadata": {
    "tags": []
   },
   "outputs": [],
   "source": [
    "import numpy as np\n",
    "from scipy import stats\n",
    "\n",
    "def stats_from_list(lista):\n",
    "    # Cálculo de las estadísticas básicas\n",
    "    minimo = np.min(lista)\n",
    "    maximo = np.max(lista)\n",
    "    media = np.mean(lista)\n",
    "    mediana = np.median(lista)\n",
    "    percentil_25 = np.percentile(lista, 25)\n",
    "    percentil_75 = np.percentile(lista, 75)\n",
    "    ric = percentil_75 - percentil_25\n",
    "    moda = stats.mode(lista).mode[0]\n",
    "    \n",
    "    estadisticas = [minimo,maximo, media, mediana, percentil_25, percentil_75, ric, moda]\n",
    "    \n",
    "    return estadisticas\n"
   ]
  },
  {
   "cell_type": "code",
   "execution_count": 50,
   "id": "0e8b0077-671d-4f24-8aea-cc6b543c4c33",
   "metadata": {
    "tags": []
   },
   "outputs": [
    {
     "name": "stderr",
     "output_type": "stream",
     "text": [
      "C:\\Users\\User\\AppData\\Local\\Temp\\ipykernel_9148\\2835630530.py:13: FutureWarning: Unlike other reduction functions (e.g. `skew`, `kurtosis`), the default behavior of `mode` typically preserves the axis it acts along. In SciPy 1.11.0, this behavior will change: the default value of `keepdims` will become False, the `axis` over which the statistic is taken will be eliminated, and the value None will no longer be accepted. Set `keepdims` to True or False to avoid this warning.\n",
      "  moda = stats.mode(lista).mode[0]\n"
     ]
    }
   ],
   "source": [
    "#noticias\n",
    "stats_len_news_orig = stats_from_list(len_news_orig)\n",
    "stats_len_news_processed = stats_from_list(len_news_processed)\n",
    "stats_len_news_processed2 = stats_from_list(len_news_processed2)\n",
    "\n",
    "# mails\n",
    "\n",
    "stats_len_mails_orig = stats_from_list(len_mails_orig)\n",
    "stats_len_mails_processed = stats_from_list(len_mails_processed)\n",
    "stats_len_mails_processed2 = stats_from_list(len_mails_processed2)\n"
   ]
  },
  {
   "cell_type": "code",
   "execution_count": 51,
   "id": "179da81c-9913-4aa0-83ca-197651b0aae5",
   "metadata": {
    "tags": []
   },
   "outputs": [
    {
     "data": {
      "text/html": [
       "<div>\n",
       "<style scoped>\n",
       "    .dataframe tbody tr th:only-of-type {\n",
       "        vertical-align: middle;\n",
       "    }\n",
       "\n",
       "    .dataframe tbody tr th {\n",
       "        vertical-align: top;\n",
       "    }\n",
       "\n",
       "    .dataframe thead th {\n",
       "        text-align: right;\n",
       "    }\n",
       "</style>\n",
       "<table border=\"1\" class=\"dataframe\">\n",
       "  <thead>\n",
       "    <tr style=\"text-align: right;\">\n",
       "      <th></th>\n",
       "      <th>minimo</th>\n",
       "      <th>maximo</th>\n",
       "      <th>media</th>\n",
       "      <th>mediana</th>\n",
       "      <th>percentil25</th>\n",
       "      <th>percentil75</th>\n",
       "      <th>RIC</th>\n",
       "      <th>moda</th>\n",
       "    </tr>\n",
       "  </thead>\n",
       "  <tbody>\n",
       "    <tr>\n",
       "      <th>0</th>\n",
       "      <td>14</td>\n",
       "      <td>17659</td>\n",
       "      <td>1067.948945</td>\n",
       "      <td>838.0</td>\n",
       "      <td>549.0</td>\n",
       "      <td>1215.0</td>\n",
       "      <td>666.0</td>\n",
       "      <td>520</td>\n",
       "    </tr>\n",
       "    <tr>\n",
       "      <th>1</th>\n",
       "      <td>42</td>\n",
       "      <td>1383</td>\n",
       "      <td>187.607682</td>\n",
       "      <td>166.0</td>\n",
       "      <td>119.0</td>\n",
       "      <td>228.0</td>\n",
       "      <td>109.0</td>\n",
       "      <td>139</td>\n",
       "    </tr>\n",
       "    <tr>\n",
       "      <th>2</th>\n",
       "      <td>23</td>\n",
       "      <td>962</td>\n",
       "      <td>121.067043</td>\n",
       "      <td>109.0</td>\n",
       "      <td>75.0</td>\n",
       "      <td>147.0</td>\n",
       "      <td>72.0</td>\n",
       "      <td>98</td>\n",
       "    </tr>\n",
       "  </tbody>\n",
       "</table>\n",
       "</div>"
      ],
      "text/plain": [
       "   minimo  maximo        media  mediana  percentil25  percentil75    RIC  moda\n",
       "0      14   17659  1067.948945    838.0        549.0       1215.0  666.0   520\n",
       "1      42    1383   187.607682    166.0        119.0        228.0  109.0   139\n",
       "2      23     962   121.067043    109.0         75.0        147.0   72.0    98"
      ]
     },
     "execution_count": 51,
     "metadata": {},
     "output_type": "execute_result"
    }
   ],
   "source": [
    "full_lists_news = [stats_len_news_orig, stats_len_news_processed, stats_len_news_processed2]\n",
    "nombres_columnas = ['minimo', 'maximo', 'media', \"mediana\", \"percentil25\", \"percentil75\", \"RIC\", \"moda\"]\n",
    "df_news = pd.DataFrame(full_lists_news, columns=nombres_columnas)\n",
    "df_news"
   ]
  },
  {
   "cell_type": "code",
   "execution_count": 52,
   "id": "6c451dcf-a785-410a-bf78-4ec25af90ca1",
   "metadata": {
    "tags": []
   },
   "outputs": [
    {
     "data": {
      "text/html": [
       "<div>\n",
       "<style scoped>\n",
       "    .dataframe tbody tr th:only-of-type {\n",
       "        vertical-align: middle;\n",
       "    }\n",
       "\n",
       "    .dataframe tbody tr th {\n",
       "        vertical-align: top;\n",
       "    }\n",
       "\n",
       "    .dataframe thead th {\n",
       "        text-align: right;\n",
       "    }\n",
       "</style>\n",
       "<table border=\"1\" class=\"dataframe\">\n",
       "  <thead>\n",
       "    <tr style=\"text-align: right;\">\n",
       "      <th></th>\n",
       "      <th>minimo</th>\n",
       "      <th>maximo</th>\n",
       "      <th>media</th>\n",
       "      <th>mediana</th>\n",
       "      <th>percentil25</th>\n",
       "      <th>percentil75</th>\n",
       "      <th>RIC</th>\n",
       "      <th>moda</th>\n",
       "    </tr>\n",
       "  </thead>\n",
       "  <tbody>\n",
       "    <tr>\n",
       "      <th>0</th>\n",
       "      <td>14</td>\n",
       "      <td>17659</td>\n",
       "      <td>1067.948945</td>\n",
       "      <td>838.0</td>\n",
       "      <td>549.0</td>\n",
       "      <td>1215.0</td>\n",
       "      <td>666.0</td>\n",
       "      <td>520</td>\n",
       "    </tr>\n",
       "    <tr>\n",
       "      <th>1</th>\n",
       "      <td>42</td>\n",
       "      <td>1383</td>\n",
       "      <td>187.607682</td>\n",
       "      <td>166.0</td>\n",
       "      <td>119.0</td>\n",
       "      <td>228.0</td>\n",
       "      <td>109.0</td>\n",
       "      <td>139</td>\n",
       "    </tr>\n",
       "    <tr>\n",
       "      <th>2</th>\n",
       "      <td>23</td>\n",
       "      <td>962</td>\n",
       "      <td>121.067043</td>\n",
       "      <td>109.0</td>\n",
       "      <td>75.0</td>\n",
       "      <td>147.0</td>\n",
       "      <td>72.0</td>\n",
       "      <td>98</td>\n",
       "    </tr>\n",
       "  </tbody>\n",
       "</table>\n",
       "</div>"
      ],
      "text/plain": [
       "   minimo  maximo        media  mediana  percentil25  percentil75    RIC  moda\n",
       "0      14   17659  1067.948945    838.0        549.0       1215.0  666.0   520\n",
       "1      42    1383   187.607682    166.0        119.0        228.0  109.0   139\n",
       "2      23     962   121.067043    109.0         75.0        147.0   72.0    98"
      ]
     },
     "execution_count": 52,
     "metadata": {},
     "output_type": "execute_result"
    }
   ],
   "source": [
    "full_lists_mails = [stats_len_mails_orig, stats_len_mails_processed, stats_len_mails_processed2]\n",
    "nombres_columnas = ['minimo', 'maximo', 'media', \"mediana\", \"percentil25\", \"percentil75\", \"RIC\", \"moda\"]\n",
    "df_news = pd.DataFrame(full_lists_news, columns=nombres_columnas)\n",
    "df_news"
   ]
  },
  {
   "cell_type": "code",
   "execution_count": 53,
   "id": "16ea5f1f-564a-4bad-b586-8f97d7b60329",
   "metadata": {},
   "outputs": [
    {
     "name": "stdout",
     "output_type": "stream",
     "text": [
      "(26244, 4198)\n",
      "(26252, 2653)\n"
     ]
    }
   ],
   "source": [
    "print(news_tfidf.shape)\n",
    "print(news_tfidf2.shape)"
   ]
  },
  {
   "cell_type": "code",
   "execution_count": null,
   "id": "9db01444-bfaf-49ab-8503-01cb10ed4586",
   "metadata": {},
   "outputs": [],
   "source": []
  },
  {
   "cell_type": "code",
   "execution_count": 15,
   "id": "b6151145-5246-4807-9c1f-a273056b0683",
   "metadata": {
    "tags": []
   },
   "outputs": [
    {
     "data": {
      "text/plain": [
       "26501"
      ]
     },
     "execution_count": 15,
     "metadata": {},
     "output_type": "execute_result"
    }
   ],
   "source": [
    "len(len_news_processed)"
   ]
  },
  {
   "cell_type": "code",
   "execution_count": 16,
   "id": "6fcaf2f3-cde8-466e-8484-a368b23dc53d",
   "metadata": {
    "tags": []
   },
   "outputs": [
    {
     "data": {
      "text/plain": [
       "1378"
      ]
     },
     "execution_count": 16,
     "metadata": {},
     "output_type": "execute_result"
    }
   ],
   "source": [
    "max(len_news_processed)"
   ]
  },
  {
   "cell_type": "code",
   "execution_count": 17,
   "id": "93b25992-447b-4195-9625-6fb792c0d308",
   "metadata": {
    "tags": []
   },
   "outputs": [
    {
     "data": {
      "text/plain": [
       "17678"
      ]
     },
     "execution_count": 17,
     "metadata": {},
     "output_type": "execute_result"
    }
   ],
   "source": [
    "max(len_news_orig)"
   ]
  },
  {
   "cell_type": "code",
   "execution_count": 11,
   "id": "025c344b-45b7-4e35-ab7c-59e2441d592d",
   "metadata": {
    "tags": []
   },
   "outputs": [
    {
     "data": {
      "image/png": "[encoded data removed]",
      "text/plain": [
       "<Figure size 1200x1200 with 1 Axes>"
      ]
     },
     "metadata": {},
     "output_type": "display_data"
    }
   ],
   "source": [
    "# crear figura y subplot\n",
    "fig, ax = plt.subplots(figsize=(12, 12))\n",
    "\n",
    "# trazar el primer histograma\n",
    "ax.hist(len_news_orig, bins=60, alpha=0.5, label='Notícias original', color='b', histtype='stepfilled')\n",
    "\n",
    "# trazar el segundo histograma\n",
    "ax.hist(len_news_processed, bins=60, alpha=0.5, label='Notícias procesadas', color='r', histtype='stepfilled')\n",
    "\n",
    "# ajustar las etiquetas y títulos\n",
    "ax.set_title('Número de palabras dataset de notícias')\n",
    "# establecer límites y ajustar las marcas de graduación en el eje x\n",
    "# establecer límites y ajustar las marcas de graduación en el eje x\n",
    "ax.set_xlim(0, 4000)\n",
    "# agregar leyenda\n",
    "ax.legend()\n",
    "\n",
    "# mostrar el gráfico\n",
    "plt.show()"
   ]
  },
  {
   "cell_type": "code",
   "execution_count": 18,
   "id": "361f910e-3a53-4c1b-a936-f903ea431517",
   "metadata": {
    "tags": []
   },
   "outputs": [],
   "source": []
  },
  {
   "cell_type": "code",
   "execution_count": 13,
   "id": "0c65139f-06d0-4d99-a451-98c9a2d148cc",
   "metadata": {
    "tags": []
   },
   "outputs": [
    {
     "data": {
      "image/png": "[encoded data removed]",
      "text/plain": [
       "<Figure size 1200x1200 with 1 Axes>"
      ]
     },
     "metadata": {},
     "output_type": "display_data"
    }
   ],
   "source": [
    "# crear figura y subplot\n",
    "fig, ax = plt.subplots(figsize=(12, 12))\n",
    "\n",
    "# trazar el primer histograma\n",
    "ax.hist(len_mails_orig, bins=100, alpha=0.5, label='Notícias original', color='b', histtype='stepfilled')\n",
    "\n",
    "# trazar el segundo histograma\n",
    "ax.hist(len_mails_processed, bins=100, alpha=0.5, label='Notícias procesadas', color='r', histtype='stepfilled')\n",
    "\n",
    "# ajustar las etiquetas y títulos\n",
    "ax.set_ylabel('Frecuencia')\n",
    "ax.set_title('Número de carácteres dataset de mails')\n",
    "# establecer límites y ajustar las marcas de graduación en el eje x\n",
    "# establecer límites y ajustar las marcas de graduación en el eje x\n",
    "ax.set_xlim(0, 2000)\n",
    "# agregar leyenda\n",
    "ax.legend()\n",
    "\n",
    "# mostrar el gráfico\n",
    "plt.show()"
   ]
  },
  {
   "cell_type": "code",
   "execution_count": null,
   "id": "923f47fb-dd61-42f1-beda-b59a5004c7de",
   "metadata": {},
   "outputs": [],
   "source": []
  }
 ],
 "metadata": {
  "kernelspec": {
   "display_name": "Python 3 (ipykernel)",
   "language": "python",
   "name": "python3"
  },
  "language_info": {
   "codemirror_mode": {
    "name": "ipython",
    "version": 3
   },
   "file_extension": ".py",
   "mimetype": "text/x-python",
   "name": "python",
   "nbconvert_exporter": "python",
   "pygments_lexer": "ipython3",
   "version": "3.10.9"
  }
 },
 "nbformat": 4,
 "nbformat_minor": 5
}
