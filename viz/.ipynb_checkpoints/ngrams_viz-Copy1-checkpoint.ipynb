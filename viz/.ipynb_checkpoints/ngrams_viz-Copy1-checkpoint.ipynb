{
 "cells": [
  {
   "cell_type": "code",
   "execution_count": 3,
   "id": "b9ed5b85-9784-46aa-90fb-ca1c68216bc3",
   "metadata": {
    "tags": []
   },
   "outputs": [
    {
     "name": "stderr",
     "output_type": "stream",
     "text": [
      "[nltk_data] Downloading package punkt to\n",
      "[nltk_data]     C:\\Users\\User\\AppData\\Roaming\\nltk_data...\n",
      "[nltk_data]   Package punkt is already up-to-date!\n"
     ]
    },
    {
     "data": {
      "text/plain": [
       "True"
      ]
     },
     "execution_count": 3,
     "metadata": {},
     "output_type": "execute_result"
    }
   ],
   "source": [
    "import nltk\n",
    "import pandas as pd\n",
    "nltk.download('punkt')"
   ]
  },
  {
   "cell_type": "code",
   "execution_count": 4,
   "id": "c9861f63-d4a9-45dd-8ea9-2ac8ce9e93a8",
   "metadata": {
    "tags": []
   },
   "outputs": [],
   "source": [
    "news = pd.read_csv(r\"D:\\TFG\\tfg_git\\data\\news\\news3_v2.csv\")\n",
    "mails = pd.read_csv(r\"D:\\TFG\\tfg_git\\data\\mails\\corpus_v2.0.csv\")"
   ]
  },
  {
   "cell_type": "code",
   "execution_count": 8,
   "id": "02c62b53-9c22-44ec-986f-6583350feca9",
   "metadata": {
    "tags": []
   },
   "outputs": [],
   "source": [
    "corpus = news.text"
   ]
  },
  {
   "cell_type": "code",
   "execution_count": 15,
   "id": "9e6a2430-71c9-4f27-95a9-1abf6867dfd3",
   "metadata": {
    "tags": []
   },
   "outputs": [
    {
     "name": "stderr",
     "output_type": "stream",
     "text": [
      "[nltk_data] Downloading package punkt to\n",
      "[nltk_data]     C:\\Users\\User\\AppData\\Roaming\\nltk_data...\n",
      "[nltk_data]   Package punkt is already up-to-date!\n"
     ]
    },
    {
     "ename": "AttributeError",
     "evalue": "module 'textacy' has no attribute 'text_stats'",
     "output_type": "error",
     "traceback": [
      "\u001b[1;31m---------------------------------------------------------------------------\u001b[0m",
      "\u001b[1;31mAttributeError\u001b[0m                            Traceback (most recent call last)",
      "Cell \u001b[1;32mIn[15], line 21\u001b[0m\n\u001b[0;32m     18\u001b[0m ttr \u001b[38;5;241m=\u001b[39m \u001b[38;5;28mlen\u001b[39m(types) \u001b[38;5;241m/\u001b[39m \u001b[38;5;28mlen\u001b[39m(tokens)\n\u001b[0;32m     20\u001b[0m doc_spacy \u001b[38;5;241m=\u001b[39m nlp(doc)\n\u001b[1;32m---> 21\u001b[0m herdan_d \u001b[38;5;241m=\u001b[39m \u001b[43mtextacy\u001b[49m\u001b[38;5;241;43m.\u001b[39;49m\u001b[43mtext_stats\u001b[49m\u001b[38;5;241m.\u001b[39mherdan_d(doc_spacy)\n\u001b[0;32m     23\u001b[0m \u001b[38;5;28mprint\u001b[39m(\u001b[38;5;124mf\u001b[39m\u001b[38;5;124m\"\u001b[39m\u001b[38;5;124mDocumento \u001b[39m\u001b[38;5;132;01m{\u001b[39;00mi\u001b[38;5;241m+\u001b[39m\u001b[38;5;241m1\u001b[39m\u001b[38;5;132;01m}\u001b[39;00m\u001b[38;5;124m: TTR = \u001b[39m\u001b[38;5;132;01m{\u001b[39;00mttr\u001b[38;5;132;01m:\u001b[39;00m\u001b[38;5;124m.2f\u001b[39m\u001b[38;5;132;01m}\u001b[39;00m\u001b[38;5;124m, D de Herdan = \u001b[39m\u001b[38;5;132;01m{\u001b[39;00mherdan_d\u001b[38;5;132;01m:\u001b[39;00m\u001b[38;5;124m.2f\u001b[39m\u001b[38;5;132;01m}\u001b[39;00m\u001b[38;5;124m\"\u001b[39m)\n",
      "\u001b[1;31mAttributeError\u001b[0m: module 'textacy' has no attribute 'text_stats'"
     ]
    }
   ],
   "source": [
    "import nltk\n",
    "import spacy\n",
    "import textacy\n",
    "from nltk.tokenize import word_tokenize\n",
    "\n",
    "# Descargar recursos necesarios de NLTK\n",
    "nltk.download('punkt')\n",
    "\n",
    "# Cargar modelo de lenguaje de Spacy\n",
    "nlp = spacy.load('es_core_news_sm')\n",
    "\n",
    "\n",
    "\n",
    "# Calcular TTR y D de Herdan para cada documento en el corpus\n",
    "for i, doc in enumerate(corpus):\n",
    "    tokens = word_tokenize(doc)\n",
    "    types = set(tokens)\n",
    "    ttr = len(types) / len(tokens)\n",
    "    \n",
    "    doc_spacy = nlp(doc)\n",
    "    herdan_d = textacy.text_stats.herdan_d(doc_spacy)\n",
    "    \n",
    "    print(f\"Documento {i+1}: TTR = {ttr:.2f}, D de Herdan = {herdan_d:.2f}\")"
   ]
  },
  {
   "cell_type": "code",
   "execution_count": 14,
   "id": "6c0b5eb5-7f8a-4aa7-9b7c-37f8390ddf48",
   "metadata": {
    "tags": []
   },
   "outputs": [
    {
     "name": "stdout",
     "output_type": "stream",
     "text": [
      "Requirement already satisfied: textacy in c:\\users\\user\\anaconda3\\envs\\tfg\\lib\\site-packages (0.13.0)\n",
      "Requirement already satisfied: spacy~=3.0 in c:\\users\\user\\anaconda3\\envs\\tfg\\lib\\site-packages (from textacy) (3.5.2)\n",
      "Requirement already satisfied: tqdm>=4.19.6 in c:\\users\\user\\anaconda3\\envs\\tfg\\lib\\site-packages (from textacy) (4.65.0)\n",
      "Requirement already satisfied: numpy>=1.17.0 in c:\\users\\user\\anaconda3\\envs\\tfg\\lib\\site-packages (from textacy) (1.24.2)\n",
      "Requirement already satisfied: floret~=0.10.0 in c:\\users\\user\\anaconda3\\envs\\tfg\\lib\\site-packages (from textacy) (0.10.3)\n",
      "Requirement already satisfied: cytoolz>=0.10.1 in c:\\users\\user\\anaconda3\\envs\\tfg\\lib\\site-packages (from textacy) (0.12.1)\n",
      "Requirement already satisfied: jellyfish>=0.8.0 in c:\\users\\user\\anaconda3\\envs\\tfg\\lib\\site-packages (from textacy) (0.11.2)\n",
      "Requirement already satisfied: requests>=2.10.0 in c:\\users\\user\\anaconda3\\envs\\tfg\\lib\\site-packages (from textacy) (2.28.2)\n",
      "Requirement already satisfied: scipy>=1.8.0 in c:\\users\\user\\anaconda3\\envs\\tfg\\lib\\site-packages (from textacy) (1.10.1)\n",
      "Requirement already satisfied: scikit-learn>=1.0 in c:\\users\\user\\anaconda3\\envs\\tfg\\lib\\site-packages (from textacy) (1.2.2)\n",
      "Requirement already satisfied: catalogue~=2.0 in c:\\users\\user\\anaconda3\\envs\\tfg\\lib\\site-packages (from textacy) (2.0.8)\n",
      "Requirement already satisfied: pyphen>=0.10.0 in c:\\users\\user\\anaconda3\\envs\\tfg\\lib\\site-packages (from textacy) (0.14.0)\n",
      "Requirement already satisfied: networkx>=2.7 in c:\\users\\user\\anaconda3\\envs\\tfg\\lib\\site-packages (from textacy) (3.1)\n",
      "Requirement already satisfied: joblib>=0.13.0 in c:\\users\\user\\anaconda3\\envs\\tfg\\lib\\site-packages (from textacy) (1.2.0)\n",
      "Requirement already satisfied: cachetools>=4.0.0 in c:\\users\\user\\anaconda3\\envs\\tfg\\lib\\site-packages (from textacy) (5.3.0)\n",
      "Requirement already satisfied: toolz>=0.8.0 in c:\\users\\user\\anaconda3\\envs\\tfg\\lib\\site-packages (from cytoolz>=0.10.1->textacy) (0.12.0)\n",
      "Requirement already satisfied: certifi>=2017.4.17 in c:\\users\\user\\anaconda3\\envs\\tfg\\lib\\site-packages (from requests>=2.10.0->textacy) (2022.12.7)\n",
      "Requirement already satisfied: urllib3<1.27,>=1.21.1 in c:\\users\\user\\anaconda3\\envs\\tfg\\lib\\site-packages (from requests>=2.10.0->textacy) (1.26.14)\n",
      "Requirement already satisfied: charset-normalizer<4,>=2 in c:\\users\\user\\anaconda3\\envs\\tfg\\lib\\site-packages (from requests>=2.10.0->textacy) (3.1.0)\n",
      "Requirement already satisfied: idna<4,>=2.5 in c:\\users\\user\\anaconda3\\envs\\tfg\\lib\\site-packages (from requests>=2.10.0->textacy) (3.4)\n",
      "Requirement already satisfied: threadpoolctl>=2.0.0 in c:\\users\\user\\anaconda3\\envs\\tfg\\lib\\site-packages (from scikit-learn>=1.0->textacy) (3.1.0)\n",
      "Requirement already satisfied: murmurhash<1.1.0,>=0.28.0 in c:\\users\\user\\anaconda3\\envs\\tfg\\lib\\site-packages (from spacy~=3.0->textacy) (1.0.9)\n",
      "Requirement already satisfied: smart-open<7.0.0,>=5.2.1 in c:\\users\\user\\anaconda3\\envs\\tfg\\lib\\site-packages (from spacy~=3.0->textacy) (6.3.0)\n",
      "Requirement already satisfied: jinja2 in c:\\users\\user\\anaconda3\\envs\\tfg\\lib\\site-packages (from spacy~=3.0->textacy) (3.1.2)\n",
      "Requirement already satisfied: typer<0.8.0,>=0.3.0 in c:\\users\\user\\anaconda3\\envs\\tfg\\lib\\site-packages (from spacy~=3.0->textacy) (0.7.0)\n",
      "Requirement already satisfied: langcodes<4.0.0,>=3.2.0 in c:\\users\\user\\anaconda3\\envs\\tfg\\lib\\site-packages (from spacy~=3.0->textacy) (3.3.0)\n",
      "Requirement already satisfied: packaging>=20.0 in c:\\users\\user\\anaconda3\\envs\\tfg\\lib\\site-packages (from spacy~=3.0->textacy) (23.0)\n",
      "Requirement already satisfied: pydantic!=1.8,!=1.8.1,<1.11.0,>=1.7.4 in c:\\users\\user\\anaconda3\\envs\\tfg\\lib\\site-packages (from spacy~=3.0->textacy) (1.10.6)\n",
      "Requirement already satisfied: spacy-loggers<2.0.0,>=1.0.0 in c:\\users\\user\\anaconda3\\envs\\tfg\\lib\\site-packages (from spacy~=3.0->textacy) (1.0.4)\n",
      "Requirement already satisfied: setuptools in c:\\users\\user\\anaconda3\\envs\\tfg\\lib\\site-packages (from spacy~=3.0->textacy) (65.6.3)\n",
      "Requirement already satisfied: cymem<2.1.0,>=2.0.2 in c:\\users\\user\\anaconda3\\envs\\tfg\\lib\\site-packages (from spacy~=3.0->textacy) (2.0.7)\n",
      "Requirement already satisfied: spacy-legacy<3.1.0,>=3.0.11 in c:\\users\\user\\anaconda3\\envs\\tfg\\lib\\site-packages (from spacy~=3.0->textacy) (3.0.12)\n",
      "Requirement already satisfied: preshed<3.1.0,>=3.0.2 in c:\\users\\user\\anaconda3\\envs\\tfg\\lib\\site-packages (from spacy~=3.0->textacy) (3.0.8)\n",
      "Requirement already satisfied: wasabi<1.2.0,>=0.9.1 in c:\\users\\user\\anaconda3\\envs\\tfg\\lib\\site-packages (from spacy~=3.0->textacy) (1.1.1)\n",
      "Requirement already satisfied: thinc<8.2.0,>=8.1.8 in c:\\users\\user\\anaconda3\\envs\\tfg\\lib\\site-packages (from spacy~=3.0->textacy) (8.1.9)\n",
      "Requirement already satisfied: pathy>=0.10.0 in c:\\users\\user\\anaconda3\\envs\\tfg\\lib\\site-packages (from spacy~=3.0->textacy) (0.10.1)\n",
      "Requirement already satisfied: srsly<3.0.0,>=2.4.3 in c:\\users\\user\\anaconda3\\envs\\tfg\\lib\\site-packages (from spacy~=3.0->textacy) (2.4.6)\n",
      "Requirement already satisfied: colorama in c:\\users\\user\\anaconda3\\envs\\tfg\\lib\\site-packages (from tqdm>=4.19.6->textacy) (0.4.6)\n",
      "Requirement already satisfied: typing-extensions>=4.2.0 in c:\\users\\user\\anaconda3\\envs\\tfg\\lib\\site-packages (from pydantic!=1.8,!=1.8.1,<1.11.0,>=1.7.4->spacy~=3.0->textacy) (4.5.0)\n",
      "Requirement already satisfied: confection<1.0.0,>=0.0.1 in c:\\users\\user\\anaconda3\\envs\\tfg\\lib\\site-packages (from thinc<8.2.0,>=8.1.8->spacy~=3.0->textacy) (0.0.4)\n",
      "Requirement already satisfied: blis<0.8.0,>=0.7.8 in c:\\users\\user\\anaconda3\\envs\\tfg\\lib\\site-packages (from thinc<8.2.0,>=8.1.8->spacy~=3.0->textacy) (0.7.9)\n",
      "Requirement already satisfied: click<9.0.0,>=7.1.1 in c:\\users\\user\\anaconda3\\envs\\tfg\\lib\\site-packages (from typer<0.8.0,>=0.3.0->spacy~=3.0->textacy) (8.1.3)\n",
      "Requirement already satisfied: MarkupSafe>=2.0 in c:\\users\\user\\anaconda3\\envs\\tfg\\lib\\site-packages (from jinja2->spacy~=3.0->textacy) (2.1.2)\n"
     ]
    }
   ],
   "source": [
    "!pip install --upgrade textacy\n",
    "\n"
   ]
  },
  {
   "cell_type": "code",
   "execution_count": null,
   "id": "6c1c24e4-fc67-4d20-ae3c-39f163da57ac",
   "metadata": {},
   "outputs": [],
   "source": []
  }
 ],
 "metadata": {
  "kernelspec": {
   "display_name": "Python 3 (ipykernel)",
   "language": "python",
   "name": "python3"
  },
  "language_info": {
   "codemirror_mode": {
    "name": "ipython",
    "version": 3
   },
   "file_extension": ".py",
   "mimetype": "text/x-python",
   "name": "python",
   "nbconvert_exporter": "python",
   "pygments_lexer": "ipython3",
   "version": "3.10.9"
  }
 },
 "nbformat": 4,
 "nbformat_minor": 5
}
