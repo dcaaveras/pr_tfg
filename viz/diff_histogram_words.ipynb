{
 "cells": [
  {
   "cell_type": "code",
   "execution_count": 1,
   "id": "bbef582f",
   "metadata": {},
   "outputs": [],
   "source": [
    "import pickle\n",
    "import pandas as pd\n",
    "import matplotlib.pyplot as plt\n",
    "import numpy as np\n",
    "\n",
    "news = pd.read_csv(r\"D:\\TFG\\tfg_git\\data\\news\\news3_v2.csv\")\n",
    "mails = pd.read_csv(r\"D:\\TFG\\tfg_git\\data\\mails\\corpus_v2.0.csv\")"
   ]
  },
  {
   "cell_type": "code",
   "execution_count": 63,
   "id": "1cd63c22",
   "metadata": {},
   "outputs": [],
   "source": [
    "# numero de palabras distintas. \n",
    "palabras = []\n",
    "for i in range(len(news.clean_text)): \n",
    "    palabras.append(news.clean_text[i].split(\" \"))\n",
    "\n"
   ]
  },
  {
   "cell_type": "code",
   "execution_count": null,
   "id": "ac06f5e6",
   "metadata": {},
   "outputs": [],
   "source": [
    "unique_palabras = \n",
    "print(unique_palabras)"
   ]
  },
  {
   "cell_type": "code",
   "execution_count": null,
   "id": "76667dde",
   "metadata": {},
   "outputs": [],
   "source": [
    "####3"
   ]
  },
  {
   "cell_type": "code",
   "execution_count": 11,
   "id": "b0e6e361",
   "metadata": {},
   "outputs": [],
   "source": [
    "news_candidates =pd.read_csv(r\"D:\\TFG\\tfg_git\\data\\news\\news3_v2_candidates.csv\")\n",
    "news_trump = pd.read_csv(r\"D:\\TFG\\tfg_git\\data\\news\\news3_v2_trump.csv\")"
   ]
  },
  {
   "cell_type": "code",
   "execution_count": 13,
   "id": "87297ea2",
   "metadata": {},
   "outputs": [
    {
     "name": "stdout",
     "output_type": "stream",
     "text": [
      "26501\n",
      "13902\n",
      "12599\n",
      "....\n",
      "26501\n"
     ]
    }
   ],
   "source": [
    "print(len(news))\n",
    "print(len(news_candidates))\n",
    "print(len(news_trump))\n",
    "print(\"....\")\n",
    "print(len(news_candidates) + len(news_trump))"
   ]
  },
  {
   "cell_type": "code",
   "execution_count": 14,
   "id": "8520a801",
   "metadata": {},
   "outputs": [],
   "source": [
    "nwords_news = []\n",
    "for i in range(len(news)): \n",
    "    nwords_news.append(len(news.clean_text[i].split(\" \")))\n",
    "    \n",
    "nwords_mails = []\n",
    "for i in range(len(mails)): \n",
    "    nwords_mails.append(len(mails.clean_text[i].split(\" \")))"
   ]
  },
  {
   "cell_type": "code",
   "execution_count": 15,
   "id": "aa7f9a5b",
   "metadata": {},
   "outputs": [
    {
     "name": "stdout",
     "output_type": "stream",
     "text": [
      "26501\n",
      "668\n"
     ]
    }
   ],
   "source": [
    "print(len(nwords_news))\n",
    "print(len(nwords_mails))"
   ]
  },
  {
   "cell_type": "code",
   "execution_count": 18,
   "id": "09a54b43",
   "metadata": {},
   "outputs": [
    {
     "data": {
      "text/plain": [
       "14"
      ]
     },
     "execution_count": 18,
     "metadata": {},
     "output_type": "execute_result"
    }
   ],
   "source": [
    "np.min(nwords_news)"
   ]
  },
  {
   "cell_type": "code",
   "execution_count": 17,
   "id": "f27eed80",
   "metadata": {},
   "outputs": [
    {
     "data": {
      "image/png": "[encoded data removed]",
      "text/plain": [
       "<Figure size 1000x500 with 2 Axes>"
      ]
     },
     "metadata": {},
     "output_type": "display_data"
    }
   ],
   "source": [
    "import matplotlib.pyplot as plt\n",
    "\n",
    "# Listas con el número de palabras de dos corpus distintos\n",
    "lista1 =nwords_news\n",
    "lista2 = nwords_mails\n",
    "\n",
    "# Crear una figura con dos subplots\n",
    "fig, (ax1, ax2) = plt.subplots(1, 2, figsize=(10, 5))\n",
    "\n",
    "# Subplot 1 - Histograma de la lista 1\n",
    "ax1.hist(lista1, bins=10, color='blue')\n",
    "ax1.set_title('Histograma - Lista 1')\n",
    "ax1.set_xlabel('Número de palabras')\n",
    "ax1.set_ylabel('Frecuencia')\n",
    "\n",
    "# Subplot 2 - Histograma de la lista 2\n",
    "ax2.hist(lista2, bins=1000, color='green')\n",
    "ax2.set_title('Histograma - Lista 2')\n",
    "ax2.set_xlabel('Número de palabras')\n",
    "ax2.set_ylabel('Frecuencia')\n",
    "\n",
    "# Ajustar los subplots\n",
    "plt.tight_layout()\n",
    "\n",
    "# Mostrar la figura\n",
    "plt.show()\n"
   ]
  },
  {
   "cell_type": "code",
   "execution_count": 19,
   "id": "197da25c",
   "metadata": {},
   "outputs": [],
   "source": [
    "import numpy as np\n",
    "from scipy import stats\n",
    "\n",
    "def stats_from_list(lista):\n",
    "    # Cálculo de las estadísticas básicas\n",
    "    minimo = np.min(lista)\n",
    "    maximo = np.max(lista)\n",
    "    media = np.mean(lista)\n",
    "    mediana = np.median(lista)\n",
    "    percentil_25 = np.percentile(lista, 25)\n",
    "    percentil_75 = np.percentile(lista, 75)\n",
    "    ric = percentil_75 - percentil_25\n",
    "    moda = stats.mode(lista).mode[0]\n",
    "    \n",
    "    estadisticas = [minimo,maximo, media, mediana, percentil_25, percentil_75, ric, moda]\n",
    "    \n",
    "    return estadisticas"
   ]
  },
  {
   "cell_type": "code",
   "execution_count": 21,
   "id": "678fb326",
   "metadata": {},
   "outputs": [
    {
     "name": "stderr",
     "output_type": "stream",
     "text": [
      "C:\\Users\\User\\AppData\\Local\\Temp\\ipykernel_25216\\3005310934.py:13: FutureWarning: Unlike other reduction functions (e.g. `skew`, `kurtosis`), the default behavior of `mode` typically preserves the axis it acts along. In SciPy 1.11.0, this behavior will change: the default value of `keepdims` will become False, the `axis` over which the statistic is taken will be eliminated, and the value None will no longer be accepted. Set `keepdims` to True or False to avoid this warning.\n",
      "  moda = stats.mode(lista).mode[0]\n"
     ]
    },
    {
     "data": {
      "text/plain": [
       "[14, 17674, 1073.1902947058602, 842.0, 551.0, 1221.0, 670.0, 651]"
      ]
     },
     "execution_count": 21,
     "metadata": {},
     "output_type": "execute_result"
    }
   ],
   "source": [
    "stats_from_list(nwords_news)"
   ]
  },
  {
   "cell_type": "code",
   "execution_count": 24,
   "id": "35ff8378",
   "metadata": {},
   "outputs": [
    {
     "name": "stderr",
     "output_type": "stream",
     "text": [
      "C:\\Users\\User\\AppData\\Local\\Temp\\ipykernel_25216\\3005310934.py:13: FutureWarning: Unlike other reduction functions (e.g. `skew`, `kurtosis`), the default behavior of `mode` typically preserves the axis it acts along. In SciPy 1.11.0, this behavior will change: the default value of `keepdims` will become False, the `axis` over which the statistic is taken will be eliminated, and the value None will no longer be accepted. Set `keepdims` to True or False to avoid this warning.\n",
      "  moda = stats.mode(lista).mode[0]\n"
     ]
    },
    {
     "data": {
      "text/html": [
       "<div>\n",
       "<style scoped>\n",
       "    .dataframe tbody tr th:only-of-type {\n",
       "        vertical-align: middle;\n",
       "    }\n",
       "\n",
       "    .dataframe tbody tr th {\n",
       "        vertical-align: top;\n",
       "    }\n",
       "\n",
       "    .dataframe thead th {\n",
       "        text-align: right;\n",
       "    }\n",
       "</style>\n",
       "<table border=\"1\" class=\"dataframe\">\n",
       "  <thead>\n",
       "    <tr style=\"text-align: right;\">\n",
       "      <th></th>\n",
       "      <th>minimo</th>\n",
       "      <th>maximo</th>\n",
       "      <th>media</th>\n",
       "      <th>mediana</th>\n",
       "      <th>percentil25</th>\n",
       "      <th>percentil75</th>\n",
       "      <th>RIC</th>\n",
       "      <th>moda</th>\n",
       "    </tr>\n",
       "  </thead>\n",
       "  <tbody>\n",
       "    <tr>\n",
       "      <th>0</th>\n",
       "      <td>14</td>\n",
       "      <td>17674</td>\n",
       "      <td>1073.190295</td>\n",
       "      <td>842.0</td>\n",
       "      <td>551.00</td>\n",
       "      <td>1221.0</td>\n",
       "      <td>670.00</td>\n",
       "      <td>651</td>\n",
       "    </tr>\n",
       "    <tr>\n",
       "      <th>1</th>\n",
       "      <td>26</td>\n",
       "      <td>2213</td>\n",
       "      <td>351.300898</td>\n",
       "      <td>323.0</td>\n",
       "      <td>240.75</td>\n",
       "      <td>446.0</td>\n",
       "      <td>205.25</td>\n",
       "      <td>233</td>\n",
       "    </tr>\n",
       "  </tbody>\n",
       "</table>\n",
       "</div>"
      ],
      "text/plain": [
       "   minimo  maximo        media  mediana  percentil25  percentil75     RIC  \\\n",
       "0      14   17674  1073.190295    842.0       551.00       1221.0  670.00   \n",
       "1      26    2213   351.300898    323.0       240.75        446.0  205.25   \n",
       "\n",
       "   moda  \n",
       "0   651  \n",
       "1   233  "
      ]
     },
     "execution_count": 24,
     "metadata": {},
     "output_type": "execute_result"
    }
   ],
   "source": [
    "#noticias\n",
    "stats_news = stats_from_list(nwords_news)\n",
    "stats_mails = stats_from_list(nwords_mails)\n",
    "\n",
    "\n",
    "\n",
    "full_lists_news = [stats_news, stats_mails]\n",
    "nombres_columnas = ['minimo', 'maximo', 'media', \"mediana\", \"percentil25\", \"percentil75\", \"RIC\", \"moda\"]\n",
    "df = pd.DataFrame(full_lists_news, columns=nombres_columnas)\n",
    "df"
   ]
  },
  {
   "cell_type": "code",
   "execution_count": 26,
   "id": "6103d421",
   "metadata": {},
   "outputs": [
    {
     "data": {
      "text/html": [
       "<div>\n",
       "<style scoped>\n",
       "    .dataframe tbody tr th:only-of-type {\n",
       "        vertical-align: middle;\n",
       "    }\n",
       "\n",
       "    .dataframe tbody tr th {\n",
       "        vertical-align: top;\n",
       "    }\n",
       "\n",
       "    .dataframe thead th {\n",
       "        text-align: right;\n",
       "    }\n",
       "</style>\n",
       "<table border=\"1\" class=\"dataframe\">\n",
       "  <thead>\n",
       "    <tr style=\"text-align: right;\">\n",
       "      <th></th>\n",
       "      <th>minimo</th>\n",
       "      <th>maximo</th>\n",
       "      <th>media</th>\n",
       "      <th>mediana</th>\n",
       "      <th>percentil25</th>\n",
       "      <th>percentil75</th>\n",
       "    </tr>\n",
       "  </thead>\n",
       "  <tbody>\n",
       "    <tr>\n",
       "      <th>0</th>\n",
       "      <td>14</td>\n",
       "      <td>17674</td>\n",
       "      <td>1073.190295</td>\n",
       "      <td>842.0</td>\n",
       "      <td>551.00</td>\n",
       "      <td>1221.0</td>\n",
       "    </tr>\n",
       "    <tr>\n",
       "      <th>1</th>\n",
       "      <td>26</td>\n",
       "      <td>2213</td>\n",
       "      <td>351.300898</td>\n",
       "      <td>323.0</td>\n",
       "      <td>240.75</td>\n",
       "      <td>446.0</td>\n",
       "    </tr>\n",
       "  </tbody>\n",
       "</table>\n",
       "</div>"
      ],
      "text/plain": [
       "   minimo  maximo        media  mediana  percentil25  percentil75\n",
       "0      14   17674  1073.190295    842.0       551.00       1221.0\n",
       "1      26    2213   351.300898    323.0       240.75        446.0"
      ]
     },
     "execution_count": 26,
     "metadata": {},
     "output_type": "execute_result"
    }
   ],
   "source": [
    "df.drop([\"RIC\", \"moda\"], axis=1)"
   ]
  },
  {
   "cell_type": "code",
   "execution_count": 27,
   "id": "d830b288",
   "metadata": {},
   "outputs": [
    {
     "name": "stdout",
     "output_type": "stream",
     "text": [
      " minimo  maximo       media  mediana  percentil25  percentil75\n",
      "     14   17674 1073.190295    842.0       551.00       1221.0\n",
      "     26    2213  351.300898    323.0       240.75        446.0\n"
     ]
    }
   ],
   "source": [
    "print(df.drop([\"RIC\", \"moda\"], axis=1).to_string(index=False))\n"
   ]
  },
  {
   "cell_type": "code",
   "execution_count": 28,
   "id": "ad454b28",
   "metadata": {},
   "outputs": [],
   "source": [
    "## Histograma del modelo despues de procesar: \n",
    "\n",
    "news_processed = pd.read_csv(r\"D:\\TFG\\tfg_git\\data\\processed\\news_processed\")\n"
   ]
  },
  {
   "cell_type": "code",
   "execution_count": 30,
   "id": "bb7829a5",
   "metadata": {},
   "outputs": [],
   "source": [
    "news_processed_final = news_processed.ctext.tolist()"
   ]
  },
  {
   "cell_type": "code",
   "execution_count": 31,
   "id": "aa7828f2",
   "metadata": {},
   "outputs": [],
   "source": [
    "from sklearn.feature_extraction.text import CountVectorizer\n",
    "\n",
    "\n",
    "coun_vect = CountVectorizer(max_df=0.99, min_df=0.01)\n",
    "count_matrix = coun_vect.fit_transform(news_processed_final)"
   ]
  },
  {
   "cell_type": "code",
   "execution_count": 36,
   "id": "2cdda3a6",
   "metadata": {},
   "outputs": [],
   "source": [
    "count_matrix = pd.DataFrame(count_matrix.toarray(), columns=coun_vect.get_feature_names_out())\n"
   ]
  },
  {
   "cell_type": "code",
   "execution_count": 37,
   "id": "7e434a2e",
   "metadata": {},
   "outputs": [
    {
     "data": {
      "text/plain": [
       "(26501, 2711)"
      ]
     },
     "execution_count": 37,
     "metadata": {},
     "output_type": "execute_result"
    }
   ],
   "source": [
    "count_matrix.shape"
   ]
  },
  {
   "cell_type": "code",
   "execution_count": 43,
   "id": "adff2f15",
   "metadata": {},
   "outputs": [],
   "source": [
    "from scipy.sparse import find\n",
    "\n",
    "feature_names = count_matrix.columns.tolist()\n",
    "\n",
    "# loop through each row of the matrix and create a list of words for that row\n",
    "word_lists = []\n",
    "for row in range(count_matrix.shape[0]):\n",
    "    # get the indices of the non-zero elements in the row\n",
    "    _, col_indices, _ = find(count_matrix.iloc[row])\n",
    "    # create a list of words for the row\n",
    "    words = [feature_names[col] for col in col_indices]\n",
    "    word_lists.append(len(words))\n",
    "\n",
    "word_lists_news = word_lists"
   ]
  },
  {
   "cell_type": "code",
   "execution_count": 59,
   "id": "b160faea",
   "metadata": {},
   "outputs": [
    {
     "data": {
      "text/plain": [
       "26501"
      ]
     },
     "execution_count": 59,
     "metadata": {},
     "output_type": "execute_result"
    }
   ],
   "source": [
    "len(word_lists_news)"
   ]
  },
  {
   "cell_type": "code",
   "execution_count": 58,
   "id": "f6ab0b72",
   "metadata": {},
   "outputs": [
    {
     "data": {
      "image/png": "[encoded data removed]",
      "text/plain": [
       "<Figure size 800x800 with 1 Axes>"
      ]
     },
     "metadata": {},
     "output_type": "display_data"
    }
   ],
   "source": [
    "import matplotlib.pyplot as plt\n",
    "\n",
    "# crear figura y subplot\n",
    "fig, ax = plt.subplots(figsize=(8, 8))\n",
    "\n",
    "# trazar el histograma\n",
    "ax.hist(word_lists_news, bins=60, alpha=0.5, label='Notícias original', color='b', histtype='stepfilled')\n",
    "\n",
    "# ajustar las etiquetas y títulos\n",
    "ax.set_xlabel('Número de palabras', fontsize=14)\n",
    "ax.set_ylabel('Frecuencia', fontsize=14)\n",
    "\n",
    "# establecer límites en el eje x y ajustar las marcas de graduación\n",
    "ax.set_xlim(0, 1000)\n",
    "ax.set_xticks(range(0, 1000, 500))\n",
    "\n",
    "# mostrar el gráfico\n",
    "plt.show()\n"
   ]
  },
  {
   "cell_type": "code",
   "execution_count": 47,
   "id": "65c93d4b",
   "metadata": {},
   "outputs": [
    {
     "data": {
      "text/plain": [
       "121.67620089807932"
      ]
     },
     "execution_count": 47,
     "metadata": {},
     "output_type": "execute_result"
    }
   ],
   "source": [
    "np.mean(word_lists_news)"
   ]
  },
  {
   "cell_type": "code",
   "execution_count": 60,
   "id": "f529d40d",
   "metadata": {},
   "outputs": [
    {
     "data": {
      "text/plain": [
       "1073.1902947058602"
      ]
     },
     "execution_count": 60,
     "metadata": {},
     "output_type": "execute_result"
    }
   ],
   "source": [
    "np.mean(nwords_news)"
   ]
  },
  {
   "cell_type": "code",
   "execution_count": 66,
   "id": "ed8c7a27",
   "metadata": {},
   "outputs": [],
   "source": [
    "# histograma de los valores promedio de la matriz tfidf\n",
    "\n",
    "tfidf = pd.read_csv(r\"D:\\TFG\\tfg_git\\data\\tfidf\\news.csv\")"
   ]
  },
  {
   "cell_type": "code",
   "execution_count": 71,
   "id": "29bc7bdf",
   "metadata": {},
   "outputs": [],
   "source": [
    "promedios_tfidf = tfidf.mean().tolist()"
   ]
  },
  {
   "cell_type": "code",
   "execution_count": 74,
   "id": "646cce9c",
   "metadata": {},
   "outputs": [
    {
     "data": {
      "image/png": "[encoded data removed]",
      "text/plain": [
       "<Figure size 800x800 with 1 Axes>"
      ]
     },
     "metadata": {},
     "output_type": "display_data"
    }
   ],
   "source": [
    "import matplotlib.pyplot as plt\n",
    "\n",
    "# crear figura y subplot\n",
    "fig, ax = plt.subplots(figsize=(8, 8))\n",
    "\n",
    "# trazar el histograma\n",
    "ax.hist(promedios_tfidf, bins=60, alpha=0.5, label='Notícias original', color='b', histtype='stepfilled')\n",
    "\n",
    "# ajustar las etiquetas y títulos\n",
    "ax.set_xlabel('Peso promedio TF-IDF', fontsize=14)\n",
    "ax.set_ylabel('Número de términos', fontsize=14)\n",
    "\n",
    "\n",
    "\n",
    "# mostrar el gráfico\n",
    "plt.show()\n"
   ]
  },
  {
   "cell_type": "code",
   "execution_count": 76,
   "id": "6b1d551e",
   "metadata": {},
   "outputs": [
    {
     "data": {
      "text/plain": [
       "Index(['people', 'candidate', 'state', 'year', 'president', 'voter',\n",
       "       'campaign', 'country', 'time', 'election'],\n",
       "      dtype='object')"
      ]
     },
     "execution_count": 76,
     "metadata": {},
     "output_type": "execute_result"
    }
   ],
   "source": [
    "# Calcular las medias de las columnas\n",
    "column_means = tfidf.mean()\n",
    "# Obtener los nombres de las 10 columnas con la media más alta\n",
    "top_10_columns = column_means.nlargest(10).index\n",
    "top_10_columns"
   ]
  },
  {
   "cell_type": "code",
   "execution_count": null,
   "id": "cd74ad16",
   "metadata": {},
   "outputs": [],
   "source": []
  }
 ],
 "metadata": {
  "kernelspec": {
   "display_name": "Python 3 (ipykernel)",
   "language": "python",
   "name": "python3"
  },
  "language_info": {
   "codemirror_mode": {
    "name": "ipython",
    "version": 3
   },
   "file_extension": ".py",
   "mimetype": "text/x-python",
   "name": "python",
   "nbconvert_exporter": "python",
   "pygments_lexer": "ipython3",
   "version": "3.10.9"
  }
 },
 "nbformat": 4,
 "nbformat_minor": 5
}
