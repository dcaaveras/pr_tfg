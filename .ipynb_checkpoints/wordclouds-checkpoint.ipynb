{
 "cells": [
  {
   "cell_type": "code",
   "execution_count": null,
   "id": "90c0a25b-e902-4e54-ab2d-edc091224689",
   "metadata": {},
   "outputs": [],
   "source": [
    "from wordcloud import WordCloud\n",
    "\n",
    "# lets create a wordcloud with each \n",
    "uniques = [\"Biden\", \"Sanders\", \"Warren\", \"Bloomberg\", \"Buttigieg\"]\n",
    "\n",
    "for i in range(0, 5): \n",
    "    r_aux = news_prep[news_prep[uniques[i]]!=0]\n",
    "    wordcloud = WordCloud(background_color=\"white\", width=1600, height=800).generate(\" \".join(r_aux[\"text_processed\"].tolist()))\n",
    "    plt.figure(figsize=(20,10), facecolor=\"k\")\n",
    "    plt.imshow(wordcloud)\n",
    "    plt.axis(\"off\")\n",
    "    "
   ]
  }
 ],
 "metadata": {
  "kernelspec": {
   "display_name": "Python 3 (ipykernel)",
   "language": "python",
   "name": "python3"
  },
  "language_info": {
   "codemirror_mode": {
    "name": "ipython",
    "version": 3
   },
   "file_extension": ".py",
   "mimetype": "text/x-python",
   "name": "python",
   "nbconvert_exporter": "python",
   "pygments_lexer": "ipython3",
   "version": "3.10.9"
  }
 },
 "nbformat": 4,
 "nbformat_minor": 5
}
