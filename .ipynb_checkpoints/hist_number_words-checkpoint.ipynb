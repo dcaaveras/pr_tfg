{
 "cells": [
  {
   "cell_type": "code",
   "execution_count": null,
   "id": "a435bd1f-207f-4023-804f-56ac617fd929",
   "metadata": {},
   "outputs": [],
   "source": [
    "# a partir de matriz tf idf\n",
    "# crear string para cada fila de las palabras que aparecen.\n",
    "# juntar ese string en un mismo df con el df de mails y news\n",
    "#hacer visualizacion pre y post procesamiento (histogramas del numero de palabras)"
   ]
  },
  {
   "cell_type": "code",
   "execution_count": 4,
   "id": "d9a676fb-47fb-49fe-ac64-c491fbdf598e",
   "metadata": {
    "tags": []
   },
   "outputs": [],
   "source": [
    "import pandas as pd\n",
    "from sklearn.feature_extraction.text import TfidfVectorizer\n",
    "from scipy.sparse import find"
   ]
  },
  {
   "cell_type": "code",
   "execution_count": 6,
   "id": "fcdf0d41-a28e-4334-bf4b-c01a4f5b6b2e",
   "metadata": {
    "tags": []
   },
   "outputs": [],
   "source": [
    "news_tfidf = pd.read_csv(r\"D:\\TFG\\tfg_git\\data\\tf_idf\\news_processed_tfidf.csv\")\n",
    "mails_tfidf = pd.read_csv(r\"D:\\TFG\\tfg_git\\data\\tf_idf\\mails_processed_tfidf.csv\")"
   ]
  },
  {
   "cell_type": "code",
   "execution_count": 7,
   "id": "a258d110-768f-4c5e-a6da-4a52b1a33691",
   "metadata": {
    "tags": []
   },
   "outputs": [
    {
     "name": "stdout",
     "output_type": "stream",
     "text": [
      "(26501, 2745)\n",
      "(668, 2745)\n"
     ]
    }
   ],
   "source": [
    "print(news_tfidf.shape)\n",
    "print(mails_tfidf.shape)"
   ]
  },
  {
   "cell_type": "code",
   "execution_count": 9,
   "id": "c7de3f34-cd70-46c7-bd25-976f814ec45a",
   "metadata": {
    "tags": []
   },
   "outputs": [
    {
     "ename": "KeyError",
     "evalue": "0",
     "output_type": "error",
     "traceback": [
      "\u001b[1;31m---------------------------------------------------------------------------\u001b[0m",
      "\u001b[1;31mKeyError\u001b[0m                                  Traceback (most recent call last)",
      "File \u001b[1;32m~\\anaconda3\\envs\\tfg\\lib\\site-packages\\pandas\\core\\indexes\\base.py:3802\u001b[0m, in \u001b[0;36mIndex.get_loc\u001b[1;34m(self, key, method, tolerance)\u001b[0m\n\u001b[0;32m   3801\u001b[0m \u001b[38;5;28;01mtry\u001b[39;00m:\n\u001b[1;32m-> 3802\u001b[0m     \u001b[38;5;28;01mreturn\u001b[39;00m \u001b[38;5;28;43mself\u001b[39;49m\u001b[38;5;241;43m.\u001b[39;49m\u001b[43m_engine\u001b[49m\u001b[38;5;241;43m.\u001b[39;49m\u001b[43mget_loc\u001b[49m\u001b[43m(\u001b[49m\u001b[43mcasted_key\u001b[49m\u001b[43m)\u001b[49m\n\u001b[0;32m   3803\u001b[0m \u001b[38;5;28;01mexcept\u001b[39;00m \u001b[38;5;167;01mKeyError\u001b[39;00m \u001b[38;5;28;01mas\u001b[39;00m err:\n",
      "File \u001b[1;32m~\\anaconda3\\envs\\tfg\\lib\\site-packages\\pandas\\_libs\\index.pyx:138\u001b[0m, in \u001b[0;36mpandas._libs.index.IndexEngine.get_loc\u001b[1;34m()\u001b[0m\n",
      "File \u001b[1;32m~\\anaconda3\\envs\\tfg\\lib\\site-packages\\pandas\\_libs\\index.pyx:165\u001b[0m, in \u001b[0;36mpandas._libs.index.IndexEngine.get_loc\u001b[1;34m()\u001b[0m\n",
      "File \u001b[1;32mpandas\\_libs\\hashtable_class_helper.pxi:5745\u001b[0m, in \u001b[0;36mpandas._libs.hashtable.PyObjectHashTable.get_item\u001b[1;34m()\u001b[0m\n",
      "File \u001b[1;32mpandas\\_libs\\hashtable_class_helper.pxi:5753\u001b[0m, in \u001b[0;36mpandas._libs.hashtable.PyObjectHashTable.get_item\u001b[1;34m()\u001b[0m\n",
      "\u001b[1;31mKeyError\u001b[0m: 0",
      "\nThe above exception was the direct cause of the following exception:\n",
      "\u001b[1;31mKeyError\u001b[0m                                  Traceback (most recent call last)",
      "Cell \u001b[1;32mIn[9], line 7\u001b[0m\n\u001b[0;32m      4\u001b[0m word_lists \u001b[38;5;241m=\u001b[39m []\n\u001b[0;32m      5\u001b[0m \u001b[38;5;28;01mfor\u001b[39;00m row \u001b[38;5;129;01min\u001b[39;00m \u001b[38;5;28mrange\u001b[39m(news_tfidf\u001b[38;5;241m.\u001b[39mshape[\u001b[38;5;241m0\u001b[39m]):\n\u001b[0;32m      6\u001b[0m     \u001b[38;5;66;03m# get the indices of the non-zero elements in the row\u001b[39;00m\n\u001b[1;32m----> 7\u001b[0m     _, col_indices, _ \u001b[38;5;241m=\u001b[39m find(\u001b[43mnews_tfidf\u001b[49m\u001b[43m[\u001b[49m\u001b[43mrow\u001b[49m\u001b[43m]\u001b[49m)\n\u001b[0;32m      8\u001b[0m     \u001b[38;5;66;03m# create a list of words for the row\u001b[39;00m\n\u001b[0;32m      9\u001b[0m     words \u001b[38;5;241m=\u001b[39m [feature_names[col] \u001b[38;5;28;01mfor\u001b[39;00m col \u001b[38;5;129;01min\u001b[39;00m col_indices]\n",
      "File \u001b[1;32m~\\anaconda3\\envs\\tfg\\lib\\site-packages\\pandas\\core\\frame.py:3807\u001b[0m, in \u001b[0;36mDataFrame.__getitem__\u001b[1;34m(self, key)\u001b[0m\n\u001b[0;32m   3805\u001b[0m \u001b[38;5;28;01mif\u001b[39;00m \u001b[38;5;28mself\u001b[39m\u001b[38;5;241m.\u001b[39mcolumns\u001b[38;5;241m.\u001b[39mnlevels \u001b[38;5;241m>\u001b[39m \u001b[38;5;241m1\u001b[39m:\n\u001b[0;32m   3806\u001b[0m     \u001b[38;5;28;01mreturn\u001b[39;00m \u001b[38;5;28mself\u001b[39m\u001b[38;5;241m.\u001b[39m_getitem_multilevel(key)\n\u001b[1;32m-> 3807\u001b[0m indexer \u001b[38;5;241m=\u001b[39m \u001b[38;5;28;43mself\u001b[39;49m\u001b[38;5;241;43m.\u001b[39;49m\u001b[43mcolumns\u001b[49m\u001b[38;5;241;43m.\u001b[39;49m\u001b[43mget_loc\u001b[49m\u001b[43m(\u001b[49m\u001b[43mkey\u001b[49m\u001b[43m)\u001b[49m\n\u001b[0;32m   3808\u001b[0m \u001b[38;5;28;01mif\u001b[39;00m is_integer(indexer):\n\u001b[0;32m   3809\u001b[0m     indexer \u001b[38;5;241m=\u001b[39m [indexer]\n",
      "File \u001b[1;32m~\\anaconda3\\envs\\tfg\\lib\\site-packages\\pandas\\core\\indexes\\base.py:3804\u001b[0m, in \u001b[0;36mIndex.get_loc\u001b[1;34m(self, key, method, tolerance)\u001b[0m\n\u001b[0;32m   3802\u001b[0m     \u001b[38;5;28;01mreturn\u001b[39;00m \u001b[38;5;28mself\u001b[39m\u001b[38;5;241m.\u001b[39m_engine\u001b[38;5;241m.\u001b[39mget_loc(casted_key)\n\u001b[0;32m   3803\u001b[0m \u001b[38;5;28;01mexcept\u001b[39;00m \u001b[38;5;167;01mKeyError\u001b[39;00m \u001b[38;5;28;01mas\u001b[39;00m err:\n\u001b[1;32m-> 3804\u001b[0m     \u001b[38;5;28;01mraise\u001b[39;00m \u001b[38;5;167;01mKeyError\u001b[39;00m(key) \u001b[38;5;28;01mfrom\u001b[39;00m \u001b[38;5;21;01merr\u001b[39;00m\n\u001b[0;32m   3805\u001b[0m \u001b[38;5;28;01mexcept\u001b[39;00m \u001b[38;5;167;01mTypeError\u001b[39;00m:\n\u001b[0;32m   3806\u001b[0m     \u001b[38;5;66;03m# If we have a listlike key, _check_indexing_error will raise\u001b[39;00m\n\u001b[0;32m   3807\u001b[0m     \u001b[38;5;66;03m#  InvalidIndexError. Otherwise we fall through and re-raise\u001b[39;00m\n\u001b[0;32m   3808\u001b[0m     \u001b[38;5;66;03m#  the TypeError.\u001b[39;00m\n\u001b[0;32m   3809\u001b[0m     \u001b[38;5;28mself\u001b[39m\u001b[38;5;241m.\u001b[39m_check_indexing_error(key)\n",
      "\u001b[1;31mKeyError\u001b[0m: 0"
     ]
    }
   ],
   "source": [
    "\n",
    "feature_names = news_tfidf.columns.tolist()\n",
    "\n",
    "# loop through each row of the matrix and create a list of words for that row\n",
    "word_lists = []\n",
    "for row in range(news_tfidf.shape[0]):\n",
    "    # get the indices of the non-zero elements in the row\n",
    "    _, col_indices, _ = find(news_tfidf[row])\n",
    "    # create a list of words for the row\n",
    "    words = [feature_names[col] for col in col_indices]\n",
    "    word_lists.append(words)\n",
    "\n",
    "word_lists_news = word_lists"
   ]
  },
  {
   "cell_type": "code",
   "execution_count": null,
   "id": "98ac47b0-befc-4ee7-9c11-c4e05959378c",
   "metadata": {},
   "outputs": [],
   "source": [
    "print(len(word_lists_news))"
   ]
  },
  {
   "cell_type": "code",
   "execution_count": null,
   "id": "66fca9cf-1655-40ca-8319-90071e94a1e7",
   "metadata": {},
   "outputs": [],
   "source": [
    "word_lists = []\n",
    "for row in range(mails_tfidf.shape[0]):\n",
    "    # get the indices of the non-zero elements in the row\n",
    "    _, col_indices, _ = find(mails_tfidf[row])\n",
    "    # create a list of words for the row\n",
    "    words = [feature_names[col] for col in col_indices]\n",
    "    word_lists.append(words)\n",
    "\n",
    "word_lists_mails = word_lists"
   ]
  },
  {
   "cell_type": "code",
   "execution_count": null,
   "id": "b0c1a397-6b7d-4ff5-bc54-be636c9675b4",
   "metadata": {},
   "outputs": [],
   "source": [
    "print(len(word_lists_mails))"
   ]
  },
  {
   "cell_type": "code",
   "execution_count": null,
   "id": "33a1266e-37ff-4c9f-a945-99df18fd3fc7",
   "metadata": {},
   "outputs": [],
   "source": [
    "# load preprocessing data\n",
    "news_preprocessed = pd.read_csv(r\"D:\\TFG\\tfg_git\\data\\news\\news3_v2.csv\")\n",
    "mails_preprocessed = pd.read_csv(r\"D:\\TFG\\tfg_git\\data\\mails\\corpus_v2.0.csv\")"
   ]
  },
  {
   "cell_type": "code",
   "execution_count": null,
   "id": "53e6d18b-f614-4859-96aa-47aec93a1e7d",
   "metadata": {},
   "outputs": [],
   "source": []
  }
 ],
 "metadata": {
  "kernelspec": {
   "display_name": "Python 3 (ipykernel)",
   "language": "python",
   "name": "python3"
  },
  "language_info": {
   "codemirror_mode": {
    "name": "ipython",
    "version": 3
   },
   "file_extension": ".py",
   "mimetype": "text/x-python",
   "name": "python",
   "nbconvert_exporter": "python",
   "pygments_lexer": "ipython3",
   "version": "3.10.9"
  }
 },
 "nbformat": 4,
 "nbformat_minor": 5
}
