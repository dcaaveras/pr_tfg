{
 "cells": [
  {
   "cell_type": "code",
   "execution_count": 1,
   "id": "9ebab98b-288d-4ff6-b361-ac0c1185c34b",
   "metadata": {},
   "outputs": [],
   "source": [
    "import pickle\n",
    "import pandas as pd\n",
    "import matplotlib.pyplot as plt\n",
    "import numpy as np\n",
    "\n",
    "with open(r'D:\\TFG\\tfg_git\\data\\news\\news3.pkl', 'rb') as f:\n",
    "    data = pickle.load(f)"
   ]
  },
  {
   "cell_type": "markdown",
   "id": "44e5420b-53cc-4b1e-92c9-89e03eec85c5",
   "metadata": {
    "tags": []
   },
   "source": [
    "#### Preprocesses News dataset"
   ]
  },
  {
   "cell_type": "code",
   "execution_count": 2,
   "id": "8a8871fb-7b90-40db-b643-d5308502b111",
   "metadata": {},
   "outputs": [],
   "source": [
    "data = data[data[\"clean_text\"].str.len() >0 ]\n",
    "# Hay 16 noticias que tienen una longitud ==0"
   ]
  },
  {
   "cell_type": "code",
   "execution_count": 3,
   "id": "314531d2-708b-4174-b1be-ea19f06ad6bb",
   "metadata": {},
   "outputs": [
    {
     "name": "stdout",
     "output_type": "stream",
     "text": [
      "6557.6830308290255\n",
      "99688\n",
      "88\n"
     ]
    }
   ],
   "source": [
    "# text length news dataset\n",
    "\n",
    "lengths = []\n",
    "for i in data.clean_text: \n",
    "    lengths.append(len(i))\n",
    "    \n",
    "print(sum(lengths)/len(lengths))\n",
    "print(np.max(lengths))\n",
    "print(np.min(lengths)) "
   ]
  },
  {
   "cell_type": "code",
   "execution_count": 4,
   "id": "fa683aaa-0a11-41fb-a729-930f8afae293",
   "metadata": {},
   "outputs": [],
   "source": [
    "# candidatos: \n",
    "# Joe Biden\n",
    "# Bernie Sanders\n",
    "# Elizabeth Warren\n",
    "# Michael Bloomberg \n",
    "#Pete Buttigieg.\n",
    "counter = data.personCounter.tolist()"
   ]
  },
  {
   "cell_type": "code",
   "execution_count": 5,
   "id": "4977cc74-9adf-4ad9-8bcf-611a9d1bf3d0",
   "metadata": {},
   "outputs": [],
   "source": [
    "keys = [\"Joe Biden\", \"Biden\", \"Sanders\", \"Bernie Sanders\", \"Elizabeth Warren\", \"Warren\", \"Michael Bloomberg\", \"Bloomberg\", \"Pete Buttigieg\", \"Buttigieg\"]\n",
    "d = []\n",
    "for c in counter: \n",
    "    counters_aux = []\n",
    "    for key in [0,2,4,6,8]:\n",
    "        aux = c.get(keys[key], 0)\n",
    "        aux2 = c.get(keys[key+1], 0)       \n",
    "        counters_aux.append(aux+aux2)   \n",
    "    d.append(counters_aux)"
   ]
  },
  {
   "cell_type": "code",
   "execution_count": 6,
   "id": "513ce0c3-0c5e-4fe3-87b3-40b26cfba320",
   "metadata": {},
   "outputs": [],
   "source": [
    "cols = [\"Biden\", \"Sanders\", \"Warren\", \"Bloomberg\", \"Buttigieg\"]\n",
    "counter_df = pd.DataFrame(d, columns=cols)"
   ]
  },
  {
   "cell_type": "code",
   "execution_count": 7,
   "id": "804e1acf-bc1d-4fac-acd0-9817e1cdf2f5",
   "metadata": {},
   "outputs": [],
   "source": [
    "# veces que aparecen los candidatos en los articulos (al menos aparece una vez sus nombres)\n",
    "\n",
    "keys = [\"Joe Biden\", \"Biden\", \"Sanders\", \"Bernie Sanders\", \"Elizabeth Warren\", \"Warren\", \"Michael Bloomberg\", \"Bloomberg\", \"Pete Buttigieg\", \"Buttigieg\"]\n",
    "d = []\n",
    "for c in counter: \n",
    "    counters_aux = []\n",
    "    for key in [0,2,4,6,8]:\n",
    "        aux = c.get(keys[key], 0)\n",
    "        \n",
    "        if aux!=0: \n",
    "            aux=1\n",
    "        aux2 = c.get(keys[key+1], 0)   \n",
    "        \n",
    "        if aux2!=0: \n",
    "            aux2=1\n",
    "        counters_aux.append(aux)   \n",
    "    d.append(counters_aux)\n"
   ]
  },
  {
   "cell_type": "code",
   "execution_count": 8,
   "id": "5e38c05d-1b5b-4e71-a0aa-f8b7f5e6194c",
   "metadata": {},
   "outputs": [],
   "source": [
    "counter_df_unit = pd.DataFrame(d, columns=cols)"
   ]
  },
  {
   "cell_type": "code",
   "execution_count": 9,
   "id": "2a15cdba-9a84-4b94-ba69-c31b318a24ab",
   "metadata": {},
   "outputs": [],
   "source": [
    "data[\"published_short\"] = pd.to_datetime(data[\"published\"]).dt.date\n"
   ]
  },
  {
   "cell_type": "code",
   "execution_count": 10,
   "id": "53b08505-4546-4e16-b80e-955f95259bb1",
   "metadata": {},
   "outputs": [],
   "source": [
    "# guardamos ewl nuevo dataframe \n",
    "data = data.reset_index()\n",
    "news_final = pd.concat([data, counter_df_unit], axis=1)\n",
    "news_final[\"tipo\"] = [\"News\"]*len(news_final)\n"
   ]
  },
  {
   "cell_type": "code",
   "execution_count": 13,
   "id": "bf9ab824-57dd-4ec5-8e36-b77a702fc0eb",
   "metadata": {
    "tags": []
   },
   "outputs": [
    {
     "name": "stderr",
     "output_type": "stream",
     "text": [
      "C:\\Users\\User\\AppData\\Local\\Temp\\ipykernel_5600\\2573673707.py:5: SettingWithCopyWarning: \n",
      "A value is trying to be set on a copy of a slice from a DataFrame\n",
      "\n",
      "See the caveats in the documentation: https://pandas.pydata.org/pandas-docs/stable/user_guide/indexing.html#returning-a-view-versus-a-copy\n",
      "  news_final.clean_text[i] = news_final.title[i] + news_final.text[i]\n"
     ]
    }
   ],
   "source": [
    "for i in range(len(news_final.title)): \n",
    "    if news_final.text[i].__contains__(news_final.title[i]): \n",
    "        pass\n",
    "    else: \n",
    "        news_final.clean_text[i] = news_final.title[i] + news_final.text[i]"
   ]
  },
  {
   "cell_type": "code",
   "execution_count": 16,
   "id": "c0e1e55e-d511-42d4-b513-52fa059389cb",
   "metadata": {
    "tags": []
   },
   "outputs": [],
   "source": [
    "news_final.to_csv(r\"D:\\TFG\\tfg_git\\data\\news\\news3_v2.csv\", index=False)"
   ]
  },
  {
   "cell_type": "code",
   "execution_count": 17,
   "id": "74a704be-7379-4403-a76d-91a919893cc9",
   "metadata": {
    "tags": []
   },
   "outputs": [
    {
     "data": {
      "text/plain": [
       "(26501, 23)"
      ]
     },
     "execution_count": 17,
     "metadata": {},
     "output_type": "execute_result"
    }
   ],
   "source": [
    "news_final.shape"
   ]
  },
  {
   "cell_type": "markdown",
   "id": "a74ad44d-c1d6-496d-8e75-0e6d1d4d746c",
   "metadata": {},
   "source": [
    "#### Preprocess mails dataset"
   ]
  },
  {
   "cell_type": "code",
   "execution_count": 16,
   "id": "dc3fff5a-2236-4e14-8d76-eabe5befe90c",
   "metadata": {},
   "outputs": [],
   "source": [
    "# mails\n",
    "mails = pd.read_csv(r\"D:\\TFG\\tfg_git\\data\\mails\\corpus_v1.0.csv\", \n",
    "                   low_memory=False)\n",
    "mails = mails[(mails[\"date\"] >= \"2020-01-30\") & (mails[\"date\"] <= \"2020-03-02\") ]\n",
    "\n",
    "candidates = [\"Joe Biden\", \"Bernie Sanders\", \"Elizabeth Warren\", \"Michael Bloomberg\", \"Pete Buttigieg\"]\n",
    "mails = mails[mails[\"name\"].isin(candidates)]\n",
    "mails[\"clean_text\"] = mails[\"subject\"] +\". \"+ mails[\"body_text\"]\n",
    "\n"
   ]
  },
  {
   "cell_type": "code",
   "execution_count": 21,
   "id": "73aa2cff-7498-4308-b64c-d7116a6cd3eb",
   "metadata": {
    "tags": []
   },
   "outputs": [
    {
     "name": "stdout",
     "output_type": "stream",
     "text": [
      "2081.5344311377244\n",
      "13327\n",
      "169\n"
     ]
    }
   ],
   "source": [
    "# text length of mails dataset\n",
    "\n",
    "lengths = []\n",
    "for i in mails.clean_text: \n",
    "    lengths.append(len(i))\n",
    "    \n",
    "print(sum(lengths)/len(lengths))\n",
    "print(np.max(lengths))\n",
    "print(np.min(lengths)) "
   ]
  },
  {
   "cell_type": "code",
   "execution_count": 30,
   "id": "73e9dc2e-df86-4298-9033-dbdf578d09da",
   "metadata": {
    "tags": []
   },
   "outputs": [],
   "source": [
    "mails= mails.reset_index()"
   ]
  },
  {
   "cell_type": "code",
   "execution_count": 31,
   "id": "f6b16bfc-d582-45fe-8a2c-01fea9bbcc53",
   "metadata": {
    "tags": []
   },
   "outputs": [],
   "source": [
    "m = []\n",
    "for i in range(len(mails)): \n",
    "    if mails[\"name\"][i]==\"Joe Biden\": \n",
    "        m.append([1,0,0,0,0])\n",
    "    elif mails[\"name\"][i]==\"Bernie Sanders\": \n",
    "        m.append([0,1,0,0,0])\n",
    "    elif mails[\"name\"][i]==\"Elizabeth Warren\": \n",
    "        m.append([0,0,1,0,0])\n",
    "    elif mails[\"name\"][i]==\"Michael Bloomberg\": \n",
    "        m.append([0,0,0,1,0])\n",
    "    else: \n",
    "        m.append([0,0,0,0,1])"
   ]
  },
  {
   "cell_type": "code",
   "execution_count": 35,
   "id": "d00747b8-c119-41f6-a0c3-abaa8b0eb328",
   "metadata": {
    "tags": []
   },
   "outputs": [],
   "source": [
    "m=pd.DataFrame(m, columns=[\"Biden\", \"Sanders\", \"Warren\", \"Bloomberg\",\"Buttigieg\"])\n",
    "df2 = pd.concat([mails, m], axis=1)\n",
    "df2[\"tipo\"] = [\"Mails\"]*len(df2.Biden)\n",
    "mails=df2"
   ]
  },
  {
   "cell_type": "code",
   "execution_count": 37,
   "id": "f4d66845-c0b2-4672-9e4b-bd7f26964ce7",
   "metadata": {
    "tags": []
   },
   "outputs": [],
   "source": [
    "mails.to_csv(r\"D:\\TFG\\tfg_git\\data\\mails\\corpus_v2.0.csv\" , index=False)"
   ]
  },
  {
   "cell_type": "code",
   "execution_count": null,
   "id": "87dc8f89-2c96-4c0f-aaf1-87105064b156",
   "metadata": {},
   "outputs": [],
   "source": []
  }
 ],
 "metadata": {
  "kernelspec": {
   "display_name": "Python 3 (ipykernel)",
   "language": "python",
   "name": "python3"
  },
  "language_info": {
   "codemirror_mode": {
    "name": "ipython",
    "version": 3
   },
   "file_extension": ".py",
   "mimetype": "text/x-python",
   "name": "python",
   "nbconvert_exporter": "python",
   "pygments_lexer": "ipython3",
   "version": "3.10.9"
  }
 },
 "nbformat": 4,
 "nbformat_minor": 5
}
